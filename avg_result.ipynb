{
 "cells": [
  {
   "cell_type": "markdown",
   "metadata": {},
   "source": [
    "# 读取数据"
   ]
  },
  {
   "cell_type": "code",
   "execution_count": 1,
   "metadata": {
    "collapsed": true
   },
   "outputs": [],
   "source": [
    "import numpy as np\n",
    "import pandas as pd\n",
    "import matplotlib.pyplot as plt\n",
    "import os"
   ]
  },
  {
   "cell_type": "code",
   "execution_count": 2,
   "metadata": {},
   "outputs": [],
   "source": [
    "path = 'data/Metro_train/'\n",
    "fileList = os.listdir(path) \n",
    "abrList = ['record_2019-01-01.csv','record_2019-01-05.csv','record_2019-01-06.csv','record_2019-01-12.csv',\n",
    "          'record_2019-01-13.csv','record_2019-01-19.csv','record_2019-01-20.csv']\n",
    "ret_list = [item for item in fileList if item not in abrList]\n",
    "ret_list = ['record_2019-01-08.csv','record_2019-01-15.csv','record_2019-01-22.csv']"
   ]
  },
  {
   "cell_type": "code",
   "execution_count": 3,
   "metadata": {
    "collapsed": true
   },
   "outputs": [],
   "source": [
    "### 1、5、6、12、13、19、20 号的数据与其他数据趋势不一致，剔除\n",
    "test1 = pd.read_csv('data/Metro_testA/testA_submit_2019-01-29.csv')\n",
    "test1['hour'] = test1['startTime'].apply(lambda x : x[11:16])\n",
    "def MeanMethod(test1,ret_list):\n",
    "    for f in ret_list:\n",
    "        print('------------开始计算:',f,'----------------')\n",
    "        df1=pd.read_csv(path+f)\n",
    "        df1['hour'] = df1['time'].apply(lambda x : x[11:15]+'0')\n",
    "\n",
    "        df = pd.DataFrame()\n",
    "        g = df1.groupby(['hour','stationID'])\n",
    "        df['inCount'] = g['status'].sum()\n",
    "        df['outCount'] = g['status'].count()-df['inCount']\n",
    "        df.reset_index(drop=False,inplace=True)\n",
    "    \n",
    "        test1 = test1.merge(df,on=['hour','stationID'],how='left')\n",
    "        test1 = test1.fillna(0)\n",
    "        test1['inNums'] = test1['inNums']+test1['inCount']\n",
    "        test1['outNums'] = test1['inNums']+test1['outCount']\n",
    "        test1 = test1[['stationID','startTime','endTime','inNums','outNums','hour']]\n",
    "    return test1"
   ]
  },
  {
   "cell_type": "code",
   "execution_count": 4,
   "metadata": {},
   "outputs": [
    {
     "data": {
      "text/html": [
       "<div>\n",
       "<style>\n",
       "    .dataframe thead tr:only-child th {\n",
       "        text-align: right;\n",
       "    }\n",
       "\n",
       "    .dataframe thead th {\n",
       "        text-align: left;\n",
       "    }\n",
       "\n",
       "    .dataframe tbody tr th {\n",
       "        vertical-align: top;\n",
       "    }\n",
       "</style>\n",
       "<table border=\"1\" class=\"dataframe\">\n",
       "  <thead>\n",
       "    <tr style=\"text-align: right;\">\n",
       "      <th></th>\n",
       "      <th>stationID</th>\n",
       "      <th>startTime</th>\n",
       "      <th>endTime</th>\n",
       "      <th>inNums</th>\n",
       "      <th>outNums</th>\n",
       "      <th>hour</th>\n",
       "    </tr>\n",
       "  </thead>\n",
       "  <tbody>\n",
       "    <tr>\n",
       "      <th>0</th>\n",
       "      <td>0</td>\n",
       "      <td>2019-01-29 00:00:00</td>\n",
       "      <td>2019-01-29 00:10:00</td>\n",
       "      <td>NaN</td>\n",
       "      <td>NaN</td>\n",
       "      <td>00:00</td>\n",
       "    </tr>\n",
       "    <tr>\n",
       "      <th>1</th>\n",
       "      <td>0</td>\n",
       "      <td>2019-01-29 00:10:00</td>\n",
       "      <td>2019-01-29 00:20:00</td>\n",
       "      <td>NaN</td>\n",
       "      <td>NaN</td>\n",
       "      <td>00:10</td>\n",
       "    </tr>\n",
       "    <tr>\n",
       "      <th>2</th>\n",
       "      <td>0</td>\n",
       "      <td>2019-01-29 00:20:00</td>\n",
       "      <td>2019-01-29 00:30:00</td>\n",
       "      <td>NaN</td>\n",
       "      <td>NaN</td>\n",
       "      <td>00:20</td>\n",
       "    </tr>\n",
       "    <tr>\n",
       "      <th>3</th>\n",
       "      <td>0</td>\n",
       "      <td>2019-01-29 00:30:00</td>\n",
       "      <td>2019-01-29 00:40:00</td>\n",
       "      <td>NaN</td>\n",
       "      <td>NaN</td>\n",
       "      <td>00:30</td>\n",
       "    </tr>\n",
       "    <tr>\n",
       "      <th>4</th>\n",
       "      <td>0</td>\n",
       "      <td>2019-01-29 00:40:00</td>\n",
       "      <td>2019-01-29 00:50:00</td>\n",
       "      <td>NaN</td>\n",
       "      <td>NaN</td>\n",
       "      <td>00:40</td>\n",
       "    </tr>\n",
       "  </tbody>\n",
       "</table>\n",
       "</div>"
      ],
      "text/plain": [
       "   stationID            startTime              endTime  inNums  outNums   hour\n",
       "0          0  2019-01-29 00:00:00  2019-01-29 00:10:00     NaN      NaN  00:00\n",
       "1          0  2019-01-29 00:10:00  2019-01-29 00:20:00     NaN      NaN  00:10\n",
       "2          0  2019-01-29 00:20:00  2019-01-29 00:30:00     NaN      NaN  00:20\n",
       "3          0  2019-01-29 00:30:00  2019-01-29 00:40:00     NaN      NaN  00:30\n",
       "4          0  2019-01-29 00:40:00  2019-01-29 00:50:00     NaN      NaN  00:40"
      ]
     },
     "execution_count": 4,
     "metadata": {},
     "output_type": "execute_result"
    }
   ],
   "source": [
    "test1.head()"
   ]
  },
  {
   "cell_type": "code",
   "execution_count": 5,
   "metadata": {},
   "outputs": [
    {
     "name": "stdout",
     "output_type": "stream",
     "text": [
      "------------开始计算: record_2019-01-08.csv ----------------\n",
      "------------开始计算: record_2019-01-15.csv ----------------\n",
      "------------开始计算: record_2019-01-22.csv ----------------\n"
     ]
    }
   ],
   "source": [
    "test2 = MeanMethod(test1,ret_list)"
   ]
  },
  {
   "cell_type": "code",
   "execution_count": 6,
   "metadata": {
    "collapsed": true
   },
   "outputs": [],
   "source": [
    "test2['inNums'] = (test2['inNums']/len(ret_list))\n",
    "\n",
    "test2['outNums'] = (test2['outNums']/len(ret_list))\n",
    "\n",
    "test2 = test2[['stationID','startTime','endTime','inNums','outNums']]"
   ]
  },
  {
   "cell_type": "code",
   "execution_count": 7,
   "metadata": {
    "collapsed": true
   },
   "outputs": [],
   "source": [
    "test2.to_csv('data/avg_result2.csv',header=True,index=False)"
   ]
  },
  {
   "cell_type": "code",
   "execution_count": 10,
   "metadata": {},
   "outputs": [
    {
     "data": {
      "text/html": [
       "<div>\n",
       "<style scoped>\n",
       "    .dataframe tbody tr th:only-of-type {\n",
       "        vertical-align: middle;\n",
       "    }\n",
       "\n",
       "    .dataframe tbody tr th {\n",
       "        vertical-align: top;\n",
       "    }\n",
       "\n",
       "    .dataframe thead th {\n",
       "        text-align: right;\n",
       "    }\n",
       "</style>\n",
       "<table border=\"1\" class=\"dataframe\">\n",
       "  <thead>\n",
       "    <tr style=\"text-align: right;\">\n",
       "      <th></th>\n",
       "      <th>stationID</th>\n",
       "      <th>startTime</th>\n",
       "      <th>endTime</th>\n",
       "      <th>inNums</th>\n",
       "      <th>outNums</th>\n",
       "    </tr>\n",
       "  </thead>\n",
       "  <tbody>\n",
       "    <tr>\n",
       "      <th>0</th>\n",
       "      <td>0</td>\n",
       "      <td>2019-01-29 00:00:00</td>\n",
       "      <td>2019-01-29 00:10:00</td>\n",
       "      <td>0</td>\n",
       "      <td>0</td>\n",
       "    </tr>\n",
       "    <tr>\n",
       "      <th>1</th>\n",
       "      <td>0</td>\n",
       "      <td>2019-01-29 00:10:00</td>\n",
       "      <td>2019-01-29 00:20:00</td>\n",
       "      <td>0</td>\n",
       "      <td>0</td>\n",
       "    </tr>\n",
       "    <tr>\n",
       "      <th>2</th>\n",
       "      <td>0</td>\n",
       "      <td>2019-01-29 00:20:00</td>\n",
       "      <td>2019-01-29 00:30:00</td>\n",
       "      <td>0</td>\n",
       "      <td>0</td>\n",
       "    </tr>\n",
       "    <tr>\n",
       "      <th>3</th>\n",
       "      <td>0</td>\n",
       "      <td>2019-01-29 00:30:00</td>\n",
       "      <td>2019-01-29 00:40:00</td>\n",
       "      <td>0</td>\n",
       "      <td>0</td>\n",
       "    </tr>\n",
       "    <tr>\n",
       "      <th>4</th>\n",
       "      <td>0</td>\n",
       "      <td>2019-01-29 00:40:00</td>\n",
       "      <td>2019-01-29 00:50:00</td>\n",
       "      <td>0</td>\n",
       "      <td>0</td>\n",
       "    </tr>\n",
       "  </tbody>\n",
       "</table>\n",
       "</div>"
      ],
      "text/plain": [
       "   stationID            startTime              endTime  inNums  outNums\n",
       "0          0  2019-01-29 00:00:00  2019-01-29 00:10:00       0        0\n",
       "1          0  2019-01-29 00:10:00  2019-01-29 00:20:00       0        0\n",
       "2          0  2019-01-29 00:20:00  2019-01-29 00:30:00       0        0\n",
       "3          0  2019-01-29 00:30:00  2019-01-29 00:40:00       0        0\n",
       "4          0  2019-01-29 00:40:00  2019-01-29 00:50:00       0        0"
      ]
     },
     "execution_count": 10,
     "metadata": {},
     "output_type": "execute_result"
    }
   ],
   "source": [
    "test2.head()"
   ]
  },
  {
   "cell_type": "code",
   "execution_count": 16,
   "metadata": {
    "collapsed": true
   },
   "outputs": [],
   "source": [
    "df = test2[test2['stationID']==20]"
   ]
  },
  {
   "cell_type": "code",
   "execution_count": 19,
   "metadata": {},
   "outputs": [
    {
     "data": {
      "text/html": [
       "<div>\n",
       "<style scoped>\n",
       "    .dataframe tbody tr th:only-of-type {\n",
       "        vertical-align: middle;\n",
       "    }\n",
       "\n",
       "    .dataframe tbody tr th {\n",
       "        vertical-align: top;\n",
       "    }\n",
       "\n",
       "    .dataframe thead th {\n",
       "        text-align: right;\n",
       "    }\n",
       "</style>\n",
       "<table border=\"1\" class=\"dataframe\">\n",
       "  <thead>\n",
       "    <tr style=\"text-align: right;\">\n",
       "      <th></th>\n",
       "      <th>stationID</th>\n",
       "      <th>startTime</th>\n",
       "      <th>endTime</th>\n",
       "      <th>inNums</th>\n",
       "      <th>outNums</th>\n",
       "    </tr>\n",
       "  </thead>\n",
       "  <tbody>\n",
       "    <tr>\n",
       "      <th>0</th>\n",
       "      <td>0</td>\n",
       "      <td>2019-01-29 00:00:00</td>\n",
       "      <td>2019-01-29 00:10:00</td>\n",
       "      <td>0</td>\n",
       "      <td>0</td>\n",
       "    </tr>\n",
       "    <tr>\n",
       "      <th>1</th>\n",
       "      <td>0</td>\n",
       "      <td>2019-01-29 00:10:00</td>\n",
       "      <td>2019-01-29 00:20:00</td>\n",
       "      <td>0</td>\n",
       "      <td>0</td>\n",
       "    </tr>\n",
       "    <tr>\n",
       "      <th>2</th>\n",
       "      <td>0</td>\n",
       "      <td>2019-01-29 00:20:00</td>\n",
       "      <td>2019-01-29 00:30:00</td>\n",
       "      <td>0</td>\n",
       "      <td>0</td>\n",
       "    </tr>\n",
       "    <tr>\n",
       "      <th>3</th>\n",
       "      <td>0</td>\n",
       "      <td>2019-01-29 00:30:00</td>\n",
       "      <td>2019-01-29 00:40:00</td>\n",
       "      <td>0</td>\n",
       "      <td>0</td>\n",
       "    </tr>\n",
       "    <tr>\n",
       "      <th>4</th>\n",
       "      <td>0</td>\n",
       "      <td>2019-01-29 00:40:00</td>\n",
       "      <td>2019-01-29 00:50:00</td>\n",
       "      <td>0</td>\n",
       "      <td>0</td>\n",
       "    </tr>\n",
       "  </tbody>\n",
       "</table>\n",
       "</div>"
      ],
      "text/plain": [
       "   stationID            startTime              endTime  inNums  outNums\n",
       "0          0  2019-01-29 00:00:00  2019-01-29 00:10:00       0        0\n",
       "1          0  2019-01-29 00:10:00  2019-01-29 00:20:00       0        0\n",
       "2          0  2019-01-29 00:20:00  2019-01-29 00:30:00       0        0\n",
       "3          0  2019-01-29 00:30:00  2019-01-29 00:40:00       0        0\n",
       "4          0  2019-01-29 00:40:00  2019-01-29 00:50:00       0        0"
      ]
     },
     "execution_count": 19,
     "metadata": {},
     "output_type": "execute_result"
    }
   ],
   "source": [
    "test2.head()"
   ]
  },
  {
   "cell_type": "code",
   "execution_count": 17,
   "metadata": {},
   "outputs": [
    {
     "data": {
      "image/png": "[encoded data removed]",
      "text/plain": [
       "<Figure size 432x288 with 1 Axes>"
      ]
     },
     "metadata": {},
     "output_type": "display_data"
    }
   ],
   "source": [
    "plt.plot(df['hour'],df['inNums'])\n",
    "plt.show()"
   ]
  },
  {
   "cell_type": "code",
   "execution_count": null,
   "metadata": {
    "collapsed": true
   },
   "outputs": [],
   "source": []
  }
 ],
 "metadata": {
  "kernelspec": {
   "display_name": "Python 3",
   "language": "python",
   "name": "python3"
  },
  "language_info": {
   "codemirror_mode": {
    "name": "ipython",
    "version": 3
   },
   "file_extension": ".py",
   "mimetype": "text/x-python",
   "name": "python",
   "nbconvert_exporter": "python",
   "pygments_lexer": "ipython3",
   "version": "3.6.3"
  },
  "toc": {
   "base_numbering": 1,
   "nav_menu": {},
   "number_sections": true,
   "sideBar": true,
   "skip_h1_title": false,
   "title_cell": "Table of Contents",
   "title_sidebar": "Contents",
   "toc_cell": false,
   "toc_position": {},
   "toc_section_display": true,
   "toc_window_display": true
  }
 },
 "nbformat": 4,
 "nbformat_minor": 2
}
